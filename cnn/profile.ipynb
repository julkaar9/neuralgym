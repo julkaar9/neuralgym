{
 "metadata": {
  "language_info": {
   "codemirror_mode": {
    "name": "ipython",
    "version": 3
   },
   "file_extension": ".py",
   "mimetype": "text/x-python",
   "name": "python",
   "nbconvert_exporter": "python",
   "pygments_lexer": "ipython3",
   "version": "3.8.5-final"
  },
  "orig_nbformat": 2,
  "kernelspec": {
   "name": "python3",
   "display_name": "Python 3",
   "language": "python"
  }
 },
 "nbformat": 4,
 "nbformat_minor": 2,
 "cells": [
  {
   "cell_type": "code",
   "execution_count": 1,
   "metadata": {},
   "outputs": [],
   "source": [
    "import cProfile\n",
    "\n",
    "import numpy as np\n",
    "import numpy.random as rnd\n",
    "\n",
    "from lib.layers import Conv2D, Maxpool, Flatten, Dense\n",
    "from lib.models import Model\n",
    "\n",
    "from lib.utils import load_mnist, normalize, display"
   ]
  },
  {
   "cell_type": "code",
   "execution_count": 2,
   "metadata": {},
   "outputs": [],
   "source": [
    "X_train, y_train, X_val, y_val = load_mnist(reshape=True, n_rows=1000)\n",
    "X_train = normalize(X_train)\n",
    "X_val = normalize(X_val)"
   ]
  },
  {
   "cell_type": "code",
   "execution_count": 3,
   "metadata": {},
   "outputs": [
    {
     "output_type": "stream",
     "name": "stdout",
     "text": [
      "(28, 28) (28, 28, 8)\n(28, 28, 8) (14, 14, 8)\n(14, 14, 8) (1568, 1)\n(1568, 1) (10, 1)\n"
     ]
    }
   ],
   "source": [
    "\n",
    "model = Model().sequential([Conv2D(filters=8, filter_shape=3),\n",
    "                            Maxpool(),\n",
    "                            Flatten(),\n",
    "                            Dense(10)])\n",
    "model.compile(X_train[0].shape)\n",
    "model.summary()\n",
    "model.load('cnn5')"
   ]
  },
  {
   "cell_type": "code",
   "execution_count": 4,
   "metadata": {},
   "outputs": [],
   "source": [
    "class Prof():\n",
    "    def __init__(self, model):\n",
    "        self.model = model\n",
    "    def cprofiler(self, module):\n",
    "        cProfile.runctx(module, globals(), locals())"
   ]
  },
  {
   "cell_type": "code",
   "execution_count": 5,
   "metadata": {},
   "outputs": [
    {
     "output_type": "stream",
     "name": "stdout",
     "text": [
      "         7866 function calls in 0.051 seconds\n\n   Ordered by: standard name\n\n   ncalls  tottime  percall  cumtime  percall filename:lineno(function)\n      784    0.002    0.000    0.027    0.000 <__array_function__ internals>:2(sum)\n        1    0.000    0.000    0.051    0.051 <string>:1(<module>)\n        2    0.000    0.000    0.000    0.000 _methods.py:37(_amax)\n        4    0.000    0.000    0.000    0.000 _methods.py:41(_amin)\n      784    0.000    0.000    0.000    0.000 fromnumeric.py:2100(_sum_dispatcher)\n      784    0.003    0.000    0.024    0.000 fromnumeric.py:2105(sum)\n      784    0.004    0.000    0.020    0.000 fromnumeric.py:70(_wrapreduction)\n      784    0.002    0.000    0.002    0.000 fromnumeric.py:71(<dictcomp>)\n      785    0.003    0.000    0.003    0.000 layers.py:32(gen_local_region)\n        1    0.020    0.020    0.051    0.051 layers.py:39(filter)\n        1    0.000    0.000    0.051    0.051 layers.py:53(forward)\n        1    0.000    0.000    0.000    0.000 utils.py:18(norm)\n        1    0.000    0.000    0.051    0.051 {built-in method builtins.exec}\n      784    0.000    0.000    0.000    0.000 {built-in method builtins.isinstance}\n      784    0.001    0.000    0.025    0.000 {built-in method numpy.core._multiarray_umath.implement_array_function}\n        1    0.000    0.000    0.000    0.000 {method 'disable' of '_lsprof.Profiler' objects}\n        1    0.000    0.000    0.000    0.000 {method 'fill' of 'numpy.ndarray' objects}\n      784    0.000    0.000    0.000    0.000 {method 'items' of 'dict' objects}\n        2    0.000    0.000    0.000    0.000 {method 'max' of 'numpy.ndarray' objects}\n        4    0.000    0.000    0.000    0.000 {method 'min' of 'numpy.ndarray' objects}\n      790    0.015    0.000    0.015    0.000 {method 'reduce' of 'numpy.ufunc' objects}\n\n\n"
     ]
    }
   ],
   "source": [
    "x = X_val[0]\n",
    "p = Prof(model)\n",
    "p.cprofiler('self.model.conv.forward(x)')"
   ]
  },
  {
   "cell_type": "code",
   "execution_count": 6,
   "metadata": {},
   "outputs": [
    {
     "output_type": "stream",
     "name": "stdout",
     "text": [
      "         24316 function calls (23140 primitive calls) in 0.073 seconds\n\n   Ordered by: standard name\n\n   ncalls  tottime  percall  cumtime  percall filename:lineno(function)\n      392    0.001    0.000    0.009    0.000 <__array_function__ internals>:2(amax)\n      196    0.000    0.000    0.010    0.000 <__array_function__ internals>:2(argwhere)\n      392    0.001    0.000    0.012    0.000 <__array_function__ internals>:2(moveaxis)\n      196    0.000    0.000    0.001    0.000 <__array_function__ internals>:2(ndim)\n      196    0.000    0.000    0.002    0.000 <__array_function__ internals>:2(nonzero)\n      196    0.000    0.000    0.006    0.000 <__array_function__ internals>:2(prod)\n      196    0.000    0.000    0.005    0.000 <__array_function__ internals>:2(transpose)\n      196    0.000    0.000    0.037    0.000 <__array_function__ internals>:2(unique)\n        1    0.000    0.000    0.073    0.073 <string>:1(<module>)\n      196    0.000    0.000    0.001    0.000 _asarray.py:139(ascontiguousarray)\n      196    0.000    0.000    0.002    0.000 _asarray.py:14(asarray)\n      392    0.000    0.000    0.001    0.000 _asarray.py:86(asanyarray)\n      392    0.000    0.000    0.000    0.000 _internal.py:433(_view_is_safe)\n        1    0.000    0.000    0.000    0.000 _methods.py:41(_amin)\n      196    0.000    0.000    0.000    0.000 arraysetops.py:136(_unpack_tuple)\n      196    0.000    0.000    0.000    0.000 arraysetops.py:144(_unique_dispatcher)\n      196    0.004    0.000    0.036    0.000 arraysetops.py:149(unique)\n      196    0.000    0.000    0.001    0.000 arraysetops.py:275(<listcomp>)\n      196    0.001    0.000    0.008    0.000 arraysetops.py:296(reshape_uniq)\n      196    0.005    0.000    0.008    0.000 arraysetops.py:309(_unique1d)\n      196    0.000    0.000    0.000    0.000 fromnumeric.py:1812(_nonzero_dispatcher)\n      196    0.000    0.000    0.002    0.000 fromnumeric.py:1816(nonzero)\n      392    0.000    0.000    0.000    0.000 fromnumeric.py:2584(_amax_dispatcher)\n      392    0.001    0.000    0.008    0.000 fromnumeric.py:2589(amax)\n      196    0.000    0.000    0.000    0.000 fromnumeric.py:2876(_prod_dispatcher)\n      196    0.001    0.000    0.006    0.000 fromnumeric.py:2881(prod)\n      196    0.000    0.000    0.000    0.000 fromnumeric.py:3071(_ndim_dispatcher)\n      196    0.000    0.000    0.000    0.000 fromnumeric.py:3075(ndim)\n      196    0.001    0.000    0.004    0.000 fromnumeric.py:39(_wrapit)\n      392    0.001    0.000    0.006    0.000 fromnumeric.py:52(_wrapfunc)\n      196    0.000    0.000    0.000    0.000 fromnumeric.py:597(_transpose_dispatcher)\n      196    0.000    0.000    0.004    0.000 fromnumeric.py:601(transpose)\n      588    0.003    0.000    0.012    0.000 fromnumeric.py:70(_wrapreduction)\n      588    0.001    0.000    0.001    0.000 fromnumeric.py:71(<dictcomp>)\n        1    0.001    0.001    0.073    0.073 layers.py:112(filter)\n        1    0.000    0.000    0.073    0.073 layers.py:124(forward)\n      197    0.014    0.000    0.066    0.000 layers.py:88(gen_local_region)\n      784    0.004    0.000    0.005    0.000 numeric.py:1308(normalize_axis_tuple)\n      784    0.001    0.000    0.001    0.000 numeric.py:1358(<listcomp>)\n      392    0.000    0.000    0.000    0.000 numeric.py:1367(_moveaxis_dispatcher)\n      392    0.004    0.000    0.011    0.000 numeric.py:1371(moveaxis)\n      392    0.000    0.000    0.000    0.000 numeric.py:1434(<listcomp>)\n      196    0.000    0.000    0.000    0.000 numeric.py:533(_argwhere_dispatcher)\n      196    0.001    0.000    0.009    0.000 numeric.py:537(argwhere)\n      784    0.000    0.000    0.000    0.000 {built-in method _operator.index}\n        1    0.000    0.000    0.073    0.073 {built-in method builtins.exec}\n      784    0.001    0.000    0.001    0.000 {built-in method builtins.getattr}\n     2940    0.001    0.000    0.001    0.000 {built-in method builtins.len}\n      392    0.001    0.000    0.001    0.000 {built-in method builtins.sorted}\n      784    0.003    0.000    0.003    0.000 {built-in method numpy.array}\n 1960/784    0.003    0.000    0.054    0.000 {built-in method numpy.core._multiarray_umath.implement_array_function}\n      784    0.000    0.000    0.000    0.000 {built-in method numpy.core._multiarray_umath.normalize_axis_index}\n      196    0.000    0.000    0.000    0.000 {built-in method numpy.empty}\n        1    0.000    0.000    0.000    0.000 {built-in method numpy.zeros}\n      392    0.003    0.000    0.003    0.000 {method 'argsort' of 'numpy.ndarray' objects}\n        1    0.000    0.000    0.000    0.000 {method 'astype' of 'numpy.ndarray' objects}\n        1    0.000    0.000    0.000    0.000 {method 'disable' of '_lsprof.Profiler' objects}\n        1    0.000    0.000    0.000    0.000 {method 'fill' of 'numpy.ndarray' objects}\n      196    0.001    0.000    0.001    0.000 {method 'flatten' of 'numpy.ndarray' objects}\n      196    0.000    0.000    0.000    0.000 {method 'format' of 'str' objects}\n      392    0.000    0.000    0.000    0.000 {method 'insert' of 'list' objects}\n      588    0.000    0.000    0.000    0.000 {method 'items' of 'dict' objects}\n        1    0.000    0.000    0.000    0.000 {method 'min' of 'numpy.ndarray' objects}\n      196    0.001    0.000    0.001    0.000 {method 'nonzero' of 'numpy.ndarray' objects}\n      589    0.008    0.000    0.008    0.000 {method 'reduce' of 'numpy.ufunc' objects}\n      392    0.001    0.000    0.001    0.000 {method 'reshape' of 'numpy.ndarray' objects}\n      588    0.001    0.000    0.001    0.000 {method 'transpose' of 'numpy.ndarray' objects}\n      392    0.001    0.000    0.002    0.000 {method 'view' of 'numpy.ndarray' objects}\n\n\n"
     ]
    }
   ],
   "source": [
    "cy = model.conv.forward(x)\n",
    "p.cprofiler('self.model.maxpool.forward(cy)')"
   ]
  },
  {
   "cell_type": "code",
   "execution_count": 7,
   "metadata": {},
   "outputs": [
    {
     "output_type": "stream",
     "name": "stdout",
     "text": [
      "         5 function calls in 0.000 seconds\n\n   Ordered by: standard name\n\n   ncalls  tottime  percall  cumtime  percall filename:lineno(function)\n        1    0.000    0.000    0.000    0.000 <string>:1(<module>)\n        1    0.000    0.000    0.000    0.000 layers.py:186(forward)\n        1    0.000    0.000    0.000    0.000 {built-in method builtins.exec}\n        1    0.000    0.000    0.000    0.000 {method 'disable' of '_lsprof.Profiler' objects}\n        1    0.000    0.000    0.000    0.000 {method 'flatten' of 'numpy.ndarray' objects}\n\n\n"
     ]
    }
   ],
   "source": [
    "my = model.maxpool.forward(cy)\n",
    "p.cprofiler('self.model.flatten.forward(my)')"
   ]
  },
  {
   "cell_type": "code",
   "execution_count": 8,
   "metadata": {},
   "outputs": [
    {
     "output_type": "stream",
     "name": "stdout",
     "text": [
      "         6 function calls in 0.000 seconds\n\n   Ordered by: standard name\n\n   ncalls  tottime  percall  cumtime  percall filename:lineno(function)\n        1    0.000    0.000    0.000    0.000 <string>:1(<module>)\n        1    0.000    0.000    0.000    0.000 activations.py:37(value)\n        1    0.000    0.000    0.000    0.000 layers.py:154(forward)\n        1    0.000    0.000    0.000    0.000 {built-in method builtins.exec}\n        1    0.000    0.000    0.000    0.000 {built-in method builtins.sum}\n        1    0.000    0.000    0.000    0.000 {method 'disable' of '_lsprof.Profiler' objects}\n\n\n"
     ]
    }
   ],
   "source": [
    "fy = model.flatten.forward(my)\n",
    "p.cprofiler('self.model.dense.forward(fy)')"
   ]
  },
  {
   "cell_type": "code",
   "execution_count": 9,
   "metadata": {},
   "outputs": [
    {
     "output_type": "stream",
     "name": "stdout",
     "text": [
      "         32185 function calls (31009 primitive calls) in 0.127 seconds\n\n   Ordered by: standard name\n\n   ncalls  tottime  percall  cumtime  percall filename:lineno(function)\n      392    0.001    0.000    0.011    0.000 <__array_function__ internals>:2(amax)\n      196    0.000    0.000    0.010    0.000 <__array_function__ internals>:2(argwhere)\n      392    0.001    0.000    0.016    0.000 <__array_function__ internals>:2(moveaxis)\n      196    0.000    0.000    0.001    0.000 <__array_function__ internals>:2(ndim)\n      196    0.000    0.000    0.002    0.000 <__array_function__ internals>:2(nonzero)\n      196    0.001    0.000    0.007    0.000 <__array_function__ internals>:2(prod)\n      784    0.002    0.000    0.021    0.000 <__array_function__ internals>:2(sum)\n      196    0.000    0.000    0.006    0.000 <__array_function__ internals>:2(transpose)\n      196    0.000    0.000    0.043    0.000 <__array_function__ internals>:2(unique)\n        1    0.000    0.000    0.126    0.126 <string>:1(<module>)\n      196    0.000    0.000    0.001    0.000 _asarray.py:139(ascontiguousarray)\n      196    0.000    0.000    0.003    0.000 _asarray.py:14(asarray)\n      392    0.000    0.000    0.001    0.000 _asarray.py:86(asanyarray)\n      392    0.000    0.000    0.000    0.000 _internal.py:433(_view_is_safe)\n        2    0.000    0.000    0.000    0.000 _methods.py:37(_amax)\n        5    0.000    0.000    0.000    0.000 _methods.py:41(_amin)\n        1    0.000    0.000    0.000    0.000 activations.py:37(value)\n      196    0.000    0.000    0.000    0.000 arraysetops.py:136(_unpack_tuple)\n      196    0.000    0.000    0.000    0.000 arraysetops.py:144(_unique_dispatcher)\n      196    0.004    0.000    0.042    0.000 arraysetops.py:149(unique)\n      196    0.000    0.000    0.001    0.000 arraysetops.py:275(<listcomp>)\n      196    0.001    0.000    0.011    0.000 arraysetops.py:296(reshape_uniq)\n      196    0.004    0.000    0.008    0.000 arraysetops.py:309(_unique1d)\n      196    0.000    0.000    0.000    0.000 fromnumeric.py:1812(_nonzero_dispatcher)\n      196    0.000    0.000    0.002    0.000 fromnumeric.py:1816(nonzero)\n      784    0.001    0.000    0.001    0.000 fromnumeric.py:2100(_sum_dispatcher)\n      784    0.003    0.000    0.017    0.000 fromnumeric.py:2105(sum)\n      392    0.000    0.000    0.000    0.000 fromnumeric.py:2584(_amax_dispatcher)\n      392    0.001    0.000    0.009    0.000 fromnumeric.py:2589(amax)\n      196    0.000    0.000    0.000    0.000 fromnumeric.py:2876(_prod_dispatcher)\n      196    0.001    0.000    0.006    0.000 fromnumeric.py:2881(prod)\n      196    0.000    0.000    0.000    0.000 fromnumeric.py:3071(_ndim_dispatcher)\n      196    0.000    0.000    0.000    0.000 fromnumeric.py:3075(ndim)\n      196    0.001    0.000    0.004    0.000 fromnumeric.py:39(_wrapit)\n      392    0.001    0.000    0.006    0.000 fromnumeric.py:52(_wrapfunc)\n      196    0.000    0.000    0.000    0.000 fromnumeric.py:597(_transpose_dispatcher)\n      196    0.000    0.000    0.005    0.000 fromnumeric.py:601(transpose)\n     1372    0.006    0.000    0.027    0.000 fromnumeric.py:70(_wrapreduction)\n     1372    0.002    0.000    0.002    0.000 fromnumeric.py:71(<dictcomp>)\n        1    0.001    0.001    0.080    0.080 layers.py:112(filter)\n        1    0.000    0.000    0.080    0.080 layers.py:124(forward)\n        1    0.000    0.000    0.000    0.000 layers.py:154(forward)\n        1    0.000    0.000    0.000    0.000 layers.py:186(forward)\n      785    0.002    0.000    0.002    0.000 layers.py:32(gen_local_region)\n        1    0.023    0.023    0.046    0.046 layers.py:39(filter)\n        1    0.000    0.000    0.046    0.046 layers.py:53(forward)\n      197    0.014    0.000    0.072    0.000 layers.py:88(gen_local_region)\n        1    0.000    0.000    0.126    0.126 models.py:37(feedforward)\n      784    0.004    0.000    0.008    0.000 numeric.py:1308(normalize_axis_tuple)\n      784    0.003    0.000    0.003    0.000 numeric.py:1358(<listcomp>)\n      392    0.000    0.000    0.000    0.000 numeric.py:1367(_moveaxis_dispatcher)\n      392    0.004    0.000    0.015    0.000 numeric.py:1371(moveaxis)\n      392    0.000    0.000    0.000    0.000 numeric.py:1434(<listcomp>)\n      196    0.000    0.000    0.000    0.000 numeric.py:533(_argwhere_dispatcher)\n      196    0.001    0.000    0.009    0.000 numeric.py:537(argwhere)\n        1    0.000    0.000    0.000    0.000 utils.py:18(norm)\n      784    0.000    0.000    0.000    0.000 {built-in method _operator.index}\n        1    0.000    0.000    0.127    0.127 {built-in method builtins.exec}\n      784    0.001    0.000    0.001    0.000 {built-in method builtins.getattr}\n      784    0.001    0.000    0.001    0.000 {built-in method builtins.isinstance}\n     2940    0.001    0.000    0.001    0.000 {built-in method builtins.len}\n      392    0.001    0.000    0.001    0.000 {built-in method builtins.sorted}\n        1    0.000    0.000    0.000    0.000 {built-in method builtins.sum}\n      784    0.003    0.000    0.003    0.000 {built-in method numpy.array}\n2744/1568    0.005    0.000    0.081    0.000 {built-in method numpy.core._multiarray_umath.implement_array_function}\n      784    0.000    0.000    0.000    0.000 {built-in method numpy.core._multiarray_umath.normalize_axis_index}\n      196    0.000    0.000    0.000    0.000 {built-in method numpy.empty}\n        1    0.000    0.000    0.000    0.000 {built-in method numpy.zeros}\n      392    0.002    0.000    0.002    0.000 {method 'argsort' of 'numpy.ndarray' objects}\n        1    0.000    0.000    0.000    0.000 {method 'astype' of 'numpy.ndarray' objects}\n        1    0.000    0.000    0.000    0.000 {method 'disable' of '_lsprof.Profiler' objects}\n        2    0.000    0.000    0.000    0.000 {method 'fill' of 'numpy.ndarray' objects}\n      197    0.001    0.000    0.001    0.000 {method 'flatten' of 'numpy.ndarray' objects}\n      196    0.000    0.000    0.000    0.000 {method 'format' of 'str' objects}\n      392    0.000    0.000    0.000    0.000 {method 'insert' of 'list' objects}\n     1372    0.000    0.000    0.000    0.000 {method 'items' of 'dict' objects}\n        2    0.000    0.000    0.000    0.000 {method 'max' of 'numpy.ndarray' objects}\n        5    0.000    0.000    0.000    0.000 {method 'min' of 'numpy.ndarray' objects}\n      196    0.001    0.000    0.001    0.000 {method 'nonzero' of 'numpy.ndarray' objects}\n     1379    0.019    0.000    0.019    0.000 {method 'reduce' of 'numpy.ufunc' objects}\n      392    0.001    0.000    0.001    0.000 {method 'reshape' of 'numpy.ndarray' objects}\n      588    0.002    0.000    0.002    0.000 {method 'transpose' of 'numpy.ndarray' objects}\n      392    0.002    0.000    0.002    0.000 {method 'view' of 'numpy.ndarray' objects}\n\n\n"
     ]
    }
   ],
   "source": [
    "p.cprofiler('self.model.feedforward(x)')"
   ]
  },
  {
   "cell_type": "code",
   "execution_count": 10,
   "metadata": {},
   "outputs": [
    {
     "output_type": "stream",
     "name": "stdout",
     "text": [
      "         5 function calls in 0.000 seconds\n\n   Ordered by: standard name\n\n   ncalls  tottime  percall  cumtime  percall filename:lineno(function)\n        1    0.000    0.000    0.000    0.000 <string>:1(<module>)\n        1    0.000    0.000    0.000    0.000 activations.py:40(dvalue)\n        1    0.000    0.000    0.000    0.000 layers.py:160(backpropagation)\n        1    0.000    0.000    0.000    0.000 {built-in method builtins.exec}\n        1    0.000    0.000    0.000    0.000 {method 'disable' of '_lsprof.Profiler' objects}\n\n\n"
     ]
    }
   ],
   "source": [
    "yp = model.feedforward(x)\n",
    "p.cprofiler('self.model.dense.backpropagation((yp-y_train[0]))')"
   ]
  },
  {
   "cell_type": "code",
   "execution_count": 11,
   "metadata": {},
   "outputs": [
    {
     "output_type": "stream",
     "name": "stdout",
     "text": [
      "         5 function calls in 0.000 seconds\n\n   Ordered by: standard name\n\n   ncalls  tottime  percall  cumtime  percall filename:lineno(function)\n        1    0.000    0.000    0.000    0.000 <string>:1(<module>)\n        1    0.000    0.000    0.000    0.000 layers.py:189(backpropagation)\n        1    0.000    0.000    0.000    0.000 {built-in method builtins.exec}\n        1    0.000    0.000    0.000    0.000 {method 'disable' of '_lsprof.Profiler' objects}\n        1    0.000    0.000    0.000    0.000 {method 'reshape' of 'numpy.ndarray' objects}\n\n\n"
     ]
    }
   ],
   "source": [
    "bd = model.dense.backpropagation((yp-y_train[0]))\n",
    "p.cprofiler('self.model.flatten.backpropagation(bd)')"
   ]
  },
  {
   "cell_type": "code",
   "execution_count": 13,
   "metadata": {},
   "outputs": [
    {
     "output_type": "stream",
     "name": "stdout",
     "text": [
      "         5 function calls in 0.016 seconds\n\n   Ordered by: standard name\n\n   ncalls  tottime  percall  cumtime  percall filename:lineno(function)\n        1    0.000    0.000    0.016    0.016 <string>:1(<module>)\n        1    0.016    0.016    0.016    0.016 layers.py:127(backpropagation)\n        1    0.000    0.000    0.016    0.016 {built-in method builtins.exec}\n        1    0.000    0.000    0.000    0.000 {built-in method numpy.zeros}\n        1    0.000    0.000    0.000    0.000 {method 'disable' of '_lsprof.Profiler' objects}\n\n\n"
     ]
    }
   ],
   "source": [
    "bf = model.flatten.backpropagation(bd)\n",
    "p.cprofiler('self.model.maxpool.backpropagation(bf)')"
   ]
  },
  {
   "cell_type": "code",
   "execution_count": 14,
   "metadata": {},
   "outputs": [
    {
     "output_type": "stream",
     "name": "stdout",
     "text": [
      "         790 function calls in 0.008 seconds\n\n   Ordered by: standard name\n\n   ncalls  tottime  percall  cumtime  percall filename:lineno(function)\n        1    0.000    0.000    0.008    0.008 <string>:1(<module>)\n      785    0.001    0.000    0.001    0.000 layers.py:32(gen_local_region)\n        1    0.007    0.007    0.008    0.008 layers.py:56(backpropagation)\n        1    0.000    0.000    0.008    0.008 {built-in method builtins.exec}\n        1    0.000    0.000    0.000    0.000 {built-in method numpy.zeros}\n        1    0.000    0.000    0.000    0.000 {method 'disable' of '_lsprof.Profiler' objects}\n\n\n"
     ]
    }
   ],
   "source": [
    "bm = model.maxpool.backpropagation(bf)\n",
    "p.cprofiler('self.model.conv.backpropagation(bm)')"
   ]
  },
  {
   "cell_type": "code",
   "execution_count": 15,
   "metadata": {},
   "outputs": [
    {
     "output_type": "stream",
     "name": "stdout",
     "text": [
      "         798 function calls in 0.015 seconds\n\n   Ordered by: standard name\n\n   ncalls  tottime  percall  cumtime  percall filename:lineno(function)\n        1    0.000    0.000    0.015    0.015 <string>:1(<module>)\n        1    0.000    0.000    0.000    0.000 activations.py:40(dvalue)\n        1    0.008    0.008    0.008    0.008 layers.py:127(backpropagation)\n        1    0.000    0.000    0.000    0.000 layers.py:160(backpropagation)\n        1    0.000    0.000    0.000    0.000 layers.py:189(backpropagation)\n      785    0.001    0.000    0.001    0.000 layers.py:32(gen_local_region)\n        1    0.006    0.006    0.006    0.006 layers.py:56(backpropagation)\n        1    0.000    0.000    0.000    0.000 loss.py:10(dvalue)\n        1    0.000    0.000    0.015    0.015 models.py:44(backpropagation)\n        1    0.000    0.000    0.015    0.015 {built-in method builtins.exec}\n        2    0.000    0.000    0.000    0.000 {built-in method numpy.zeros}\n        1    0.000    0.000    0.000    0.000 {method 'disable' of '_lsprof.Profiler' objects}\n        1    0.000    0.000    0.000    0.000 {method 'reshape' of 'numpy.ndarray' objects}\n\n\n"
     ]
    }
   ],
   "source": [
    "yp = model.feedforward(x)\n",
    "p.cprofiler('self.model.backpropagation(x, y_train[0])')"
   ]
  },
  {
   "cell_type": "code",
   "execution_count": 16,
   "metadata": {},
   "outputs": [
    {
     "output_type": "stream",
     "name": "stdout",
     "text": [
      "(1, 28, 28) (1, 10, 1)\n",
      "ce loss 2.1362482474473916\n",
      "train_acc 0.0         33181 function calls (32005 primitive calls) in 0.125 seconds\n",
      "\n",
      "   Ordered by: standard name\n",
      "\n",
      "   ncalls  tottime  percall  cumtime  percall filename:lineno(function)\n",
      "      392    0.001    0.000    0.008    0.000 <__array_function__ internals>:2(amax)\n",
      "        2    0.000    0.000    0.000    0.000 <__array_function__ internals>:2(argmax)\n",
      "      196    0.000    0.000    0.010    0.000 <__array_function__ internals>:2(argwhere)\n",
      "      392    0.001    0.000    0.011    0.000 <__array_function__ internals>:2(moveaxis)\n",
      "      196    0.000    0.000    0.001    0.000 <__array_function__ internals>:2(ndim)\n",
      "      196    0.000    0.000    0.002    0.000 <__array_function__ internals>:2(nonzero)\n",
      "      196    0.000    0.000    0.006    0.000 <__array_function__ internals>:2(prod)\n",
      "      785    0.002    0.000    0.020    0.000 <__array_function__ internals>:2(sum)\n",
      "      196    0.001    0.000    0.006    0.000 <__array_function__ internals>:2(transpose)\n",
      "      196    0.000    0.000    0.034    0.000 <__array_function__ internals>:2(unique)\n",
      "        1    0.000    0.000    0.125    0.125 <string>:1(<module>)\n",
      "      196    0.000    0.000    0.001    0.000 _asarray.py:139(ascontiguousarray)\n",
      "      196    0.000    0.000    0.002    0.000 _asarray.py:14(asarray)\n",
      "      392    0.000    0.000    0.001    0.000 _asarray.py:86(asanyarray)\n",
      "      392    0.000    0.000    0.000    0.000 _internal.py:433(_view_is_safe)\n",
      "        2    0.000    0.000    0.000    0.000 _methods.py:37(_amax)\n",
      "        5    0.000    0.000    0.001    0.000 _methods.py:41(_amin)\n",
      "        1    0.000    0.000    0.000    0.000 activations.py:37(value)\n",
      "        1    0.000    0.000    0.000    0.000 activations.py:40(dvalue)\n",
      "      196    0.000    0.000    0.000    0.000 arraysetops.py:136(_unpack_tuple)\n",
      "      196    0.000    0.000    0.000    0.000 arraysetops.py:144(_unique_dispatcher)\n",
      "      196    0.003    0.000    0.033    0.000 arraysetops.py:149(unique)\n",
      "      196    0.000    0.000    0.001    0.000 arraysetops.py:275(<listcomp>)\n",
      "      196    0.001    0.000    0.007    0.000 arraysetops.py:296(reshape_uniq)\n",
      "      196    0.005    0.000    0.008    0.000 arraysetops.py:309(_unique1d)\n",
      "        2    0.000    0.000    0.000    0.000 fromnumeric.py:1110(_argmax_dispatcher)\n",
      "        2    0.000    0.000    0.000    0.000 fromnumeric.py:1114(argmax)\n",
      "      196    0.000    0.000    0.000    0.000 fromnumeric.py:1812(_nonzero_dispatcher)\n",
      "      196    0.000    0.000    0.001    0.000 fromnumeric.py:1816(nonzero)\n",
      "      785    0.000    0.000    0.000    0.000 fromnumeric.py:2100(_sum_dispatcher)\n",
      "      785    0.002    0.000    0.017    0.000 fromnumeric.py:2105(sum)\n",
      "      392    0.000    0.000    0.000    0.000 fromnumeric.py:2584(_amax_dispatcher)\n",
      "      392    0.001    0.000    0.006    0.000 fromnumeric.py:2589(amax)\n",
      "      196    0.000    0.000    0.000    0.000 fromnumeric.py:2876(_prod_dispatcher)\n",
      "      196    0.000    0.000    0.005    0.000 fromnumeric.py:2881(prod)\n",
      "      196    0.000    0.000    0.000    0.000 fromnumeric.py:3071(_ndim_dispatcher)\n",
      "      196    0.000    0.000    0.000    0.000 fromnumeric.py:3075(ndim)\n",
      "      196    0.001    0.000    0.003    0.000 fromnumeric.py:39(_wrapit)\n",
      "      394    0.001    0.000    0.005    0.000 fromnumeric.py:52(_wrapfunc)\n",
      "      196    0.000    0.000    0.000    0.000 fromnumeric.py:597(_transpose_dispatcher)\n",
      "      196    0.000    0.000    0.004    0.000 fromnumeric.py:601(transpose)\n",
      "     1373    0.005    0.000    0.024    0.000 fromnumeric.py:70(_wrapreduction)\n",
      "     1373    0.003    0.000    0.003    0.000 fromnumeric.py:71(<dictcomp>)\n",
      "       13    0.000    0.000    0.000    0.000 iostream.py:197(schedule)\n",
      "       12    0.000    0.000    0.000    0.000 iostream.py:310(_is_master_process)\n",
      "       12    0.000    0.000    0.000    0.000 iostream.py:323(_schedule_flush)\n",
      "       12    0.000    0.000    0.001    0.000 iostream.py:386(write)\n",
      "       13    0.000    0.000    0.000    0.000 iostream.py:93(_event_pipe)\n",
      "        1    0.001    0.001    0.067    0.067 layers.py:112(filter)\n",
      "        1    0.000    0.000    0.067    0.067 layers.py:124(forward)\n",
      "        1    0.006    0.006    0.006    0.006 layers.py:127(backpropagation)\n",
      "        1    0.000    0.000    0.000    0.000 layers.py:154(forward)\n",
      "        1    0.000    0.000    0.000    0.000 layers.py:160(backpropagation)\n",
      "        2    0.000    0.000    0.000    0.000 layers.py:170(update_gradients)\n",
      "        1    0.000    0.000    0.000    0.000 layers.py:186(forward)\n",
      "        1    0.000    0.000    0.000    0.000 layers.py:189(backpropagation)\n",
      "     1570    0.004    0.000    0.004    0.000 layers.py:32(gen_local_region)\n",
      "        1    0.018    0.018    0.043    0.043 layers.py:39(filter)\n",
      "        1    0.000    0.000    0.043    0.043 layers.py:53(forward)\n",
      "        1    0.006    0.006    0.007    0.007 layers.py:56(backpropagation)\n",
      "        2    0.000    0.000    0.000    0.000 layers.py:65(update_gradients)\n",
      "      197    0.014    0.000    0.062    0.000 layers.py:88(gen_local_region)\n",
      "        1    0.000    0.000    0.000    0.000 loss.py:10(dvalue)\n",
      "        1    0.000    0.000    0.000    0.000 loss.py:7(value)\n",
      "        1    0.000    0.000    0.000    0.000 models.py:33(get_loss)\n",
      "        1    0.000    0.000    0.110    0.110 models.py:37(feedforward)\n",
      "        1    0.000    0.000    0.014    0.014 models.py:44(backpropagation)\n",
      "        2    0.000    0.000    0.000    0.000 models.py:51(update_gradients)\n",
      "        1    0.000    0.000    0.125    0.125 models.py:55(fit)\n",
      "      784    0.003    0.000    0.005    0.000 numeric.py:1308(normalize_axis_tuple)\n",
      "      784    0.001    0.000    0.001    0.000 numeric.py:1358(<listcomp>)\n",
      "      392    0.000    0.000    0.000    0.000 numeric.py:1367(_moveaxis_dispatcher)\n",
      "      392    0.003    0.000    0.009    0.000 numeric.py:1371(moveaxis)\n",
      "      392    0.000    0.000    0.000    0.000 numeric.py:1434(<listcomp>)\n",
      "      196    0.000    0.000    0.000    0.000 numeric.py:533(_argwhere_dispatcher)\n",
      "      196    0.001    0.000    0.009    0.000 numeric.py:537(argwhere)\n",
      "       13    0.000    0.000    0.000    0.000 socket.py:357(send)\n",
      "       13    0.000    0.000    0.000    0.000 threading.py:1017(_wait_for_tstate_lock)\n",
      "       13    0.000    0.000    0.000    0.000 threading.py:1071(is_alive)\n",
      "       13    0.000    0.000    0.000    0.000 threading.py:513(is_set)\n",
      "        1    0.001    0.001    0.002    0.002 utils.py:18(norm)\n",
      "      784    0.000    0.000    0.000    0.000 {built-in method _operator.index}\n",
      "        1    0.000    0.000    0.125    0.125 {built-in method builtins.exec}\n",
      "      786    0.000    0.000    0.000    0.000 {built-in method builtins.getattr}\n",
      "      797    0.000    0.000    0.000    0.000 {built-in method builtins.isinstance}\n",
      "     2940    0.001    0.000    0.001    0.000 {built-in method builtins.len}\n",
      "        3    0.000    0.000    0.001    0.000 {built-in method builtins.print}\n",
      "      392    0.001    0.000    0.001    0.000 {built-in method builtins.sorted}\n",
      "        1    0.000    0.000    0.000    0.000 {built-in method builtins.sum}\n",
      "       12    0.000    0.000    0.000    0.000 {built-in method nt.getpid}\n",
      "      784    0.003    0.000    0.003    0.000 {built-in method numpy.array}\n",
      "2747/1571    0.004    0.000    0.069    0.000 {built-in method numpy.core._multiarray_umath.implement_array_function}\n",
      "      784    0.000    0.000    0.000    0.000 {built-in method numpy.core._multiarray_umath.normalize_axis_index}\n",
      "      196    0.000    0.000    0.000    0.000 {built-in method numpy.empty}\n",
      "        3    0.000    0.000    0.000    0.000 {built-in method numpy.zeros}\n",
      "       13    0.000    0.000    0.000    0.000 {method 'acquire' of '_thread.lock' objects}\n",
      "       13    0.000    0.000    0.000    0.000 {method 'append' of 'collections.deque' objects}\n",
      "        2    0.000    0.000    0.000    0.000 {method 'argmax' of 'numpy.ndarray' objects}\n",
      "      392    0.002    0.000    0.002    0.000 {method 'argsort' of 'numpy.ndarray' objects}\n",
      "        1    0.000    0.000    0.000    0.000 {method 'astype' of 'numpy.ndarray' objects}\n",
      "        1    0.000    0.000    0.000    0.000 {method 'disable' of '_lsprof.Profiler' objects}\n",
      "        2    0.000    0.000    0.000    0.000 {method 'fill' of 'numpy.ndarray' objects}\n",
      "      199    0.001    0.000    0.001    0.000 {method 'flatten' of 'numpy.ndarray' objects}\n",
      "      196    0.000    0.000    0.000    0.000 {method 'format' of 'str' objects}\n",
      "      392    0.000    0.000    0.000    0.000 {method 'insert' of 'list' objects}\n",
      "     1373    0.000    0.000    0.000    0.000 {method 'items' of 'dict' objects}\n",
      "        2    0.000    0.000    0.000    0.000 {method 'max' of 'numpy.ndarray' objects}\n",
      "        5    0.000    0.000    0.001    0.000 {method 'min' of 'numpy.ndarray' objects}\n",
      "      196    0.001    0.000    0.001    0.000 {method 'nonzero' of 'numpy.ndarray' objects}\n",
      "     1380    0.017    0.000    0.017    0.000 {method 'reduce' of 'numpy.ufunc' objects}\n",
      "      393    0.001    0.000    0.001    0.000 {method 'reshape' of 'numpy.ndarray' objects}\n",
      "      588    0.001    0.000    0.001    0.000 {method 'transpose' of 'numpy.ndarray' objects}\n",
      "      392    0.001    0.000    0.002    0.000 {method 'view' of 'numpy.ndarray' objects}\n",
      "\n",
      "\n"
     ]
    }
   ],
   "source": [
    "p.cprofiler('self.model.fit(X_train[:1], y_train[:1], None, 1, 1)')"
   ]
  },
  {
   "cell_type": "code",
   "execution_count": 17,
   "metadata": {},
   "outputs": [
    {
     "output_type": "stream",
     "name": "stdout",
     "text": [
      "(100, 28, 28) (100, 10, 1)\n",
      "ce loss 145.48277233733432\n",
      "train_acc 55.0ce loss 86.97807421948927\n",
      "train_acc 82.0ce loss 82.75272558179358\n",
      "train_acc 83.0ce loss 79.91341431610051\n",
      "train_acc 84.0ce loss 77.40163965527431\n",
      "train_acc 85.0ce loss 75.08950549476809\n",
      "train_acc 86.0ce loss 72.9415837194827\n",
      "train_acc 87.0ce loss 70.93605809266332\n",
      "train_acc 88.0ce loss 69.05620616133966\n",
      "train_acc 88.0ce loss 67.28856859307444\n",
      "train_acc 88.0         33005535 function calls (31829535 primitive calls) in 96.816 seconds\n",
      "\n",
      "   Ordered by: standard name\n",
      "\n",
      "   ncalls  tottime  percall  cumtime  percall filename:lineno(function)\n",
      "   392000    0.733    0.000    7.578    0.000 <__array_function__ internals>:2(amax)\n",
      "     2000    0.005    0.000    0.024    0.000 <__array_function__ internals>:2(argmax)\n",
      "   196000    0.301    0.000    8.169    0.000 <__array_function__ internals>:2(argwhere)\n",
      "   392000    0.549    0.000   10.549    0.000 <__array_function__ internals>:2(moveaxis)\n",
      "   196000    0.257    0.000    0.599    0.000 <__array_function__ internals>:2(ndim)\n",
      "   196000    0.248    0.000    1.775    0.000 <__array_function__ internals>:2(nonzero)\n",
      "   196000    0.384    0.000    5.652    0.000 <__array_function__ internals>:2(prod)\n",
      "   785000    1.049    0.000   11.349    0.000 <__array_function__ internals>:2(sum)\n",
      "   196000    0.257    0.000    4.411    0.000 <__array_function__ internals>:2(transpose)\n",
      "   196000    0.354    0.000   32.699    0.000 <__array_function__ internals>:2(unique)\n",
      "        1    0.000    0.000   96.815   96.815 <string>:1(<module>)\n",
      "   196000    0.153    0.000    0.663    0.000 _asarray.py:139(ascontiguousarray)\n",
      "   196000    0.172    0.000    1.968    0.000 _asarray.py:14(asarray)\n",
      "   392000    0.265    0.000    0.580    0.000 _asarray.py:86(asanyarray)\n",
      "   392000    0.337    0.000    0.337    0.000 _internal.py:433(_view_is_safe)\n",
      "     2000    0.002    0.000    0.035    0.000 _methods.py:37(_amax)\n",
      "     5000    0.006    0.000    0.092    0.000 _methods.py:41(_amin)\n",
      "     1000    0.015    0.000    0.042    0.000 activations.py:37(value)\n",
      "     1000    0.000    0.000    0.000    0.000 activations.py:40(dvalue)\n",
      "   196000    0.154    0.000    0.192    0.000 arraysetops.py:136(_unpack_tuple)\n",
      "   196000    0.066    0.000    0.066    0.000 arraysetops.py:144(_unique_dispatcher)\n",
      "   196000    3.446    0.000   31.763    0.000 arraysetops.py:149(unique)\n",
      "   196000    0.326    0.000    0.701    0.000 arraysetops.py:275(<listcomp>)\n",
      "   196000    0.989    0.000    7.408    0.000 arraysetops.py:296(reshape_uniq)\n",
      "   196000    3.886    0.000    6.797    0.000 arraysetops.py:309(_unique1d)\n",
      "     2000    0.001    0.000    0.001    0.000 fromnumeric.py:1110(_argmax_dispatcher)\n",
      "     2000    0.004    0.000    0.015    0.000 fromnumeric.py:1114(argmax)\n",
      "   196000    0.056    0.000    0.056    0.000 fromnumeric.py:1812(_nonzero_dispatcher)\n",
      "   196000    0.211    0.000    1.288    0.000 fromnumeric.py:1816(nonzero)\n",
      "   785000    0.205    0.000    0.205    0.000 fromnumeric.py:2100(_sum_dispatcher)\n",
      "   785000    1.764    0.000    9.223    0.000 fromnumeric.py:2105(sum)\n",
      "   392000    0.122    0.000    0.122    0.000 fromnumeric.py:2584(_amax_dispatcher)\n",
      "   392000    0.903    0.000    6.187    0.000 fromnumeric.py:2589(amax)\n",
      "   196000    0.067    0.000    0.067    0.000 fromnumeric.py:2876(_prod_dispatcher)\n",
      "   196000    0.515    0.000    4.899    0.000 fromnumeric.py:2881(prod)\n",
      "   196000    0.059    0.000    0.059    0.000 fromnumeric.py:3071(_ndim_dispatcher)\n",
      "   196000    0.121    0.000    0.121    0.000 fromnumeric.py:3075(ndim)\n",
      "   196000    0.982    0.000    3.155    0.000 fromnumeric.py:39(_wrapit)\n",
      "   394000    0.732    0.000    4.763    0.000 fromnumeric.py:52(_wrapfunc)\n",
      "   196000    0.056    0.000    0.056    0.000 fromnumeric.py:597(_transpose_dispatcher)\n",
      "   196000    0.209    0.000    3.883    0.000 fromnumeric.py:601(transpose)\n",
      "  1373000    4.089    0.000   16.899    0.000 fromnumeric.py:70(_wrapreduction)\n",
      "  1373000    1.436    0.000    1.436    0.000 fromnumeric.py:71(<dictcomp>)\n",
      "       95    0.000    0.000    0.007    0.000 iostream.py:197(schedule)\n",
      "       84    0.000    0.000    0.000    0.000 iostream.py:310(_is_master_process)\n",
      "       84    0.000    0.000    0.001    0.000 iostream.py:323(_schedule_flush)\n",
      "       84    0.000    0.000    0.008    0.000 iostream.py:386(write)\n",
      "       95    0.000    0.000    0.000    0.000 iostream.py:93(_event_pipe)\n",
      "     1000    1.067    0.001   62.110    0.062 layers.py:112(filter)\n",
      "     1000    0.002    0.000   62.112    0.062 layers.py:124(forward)\n",
      "     1000    7.348    0.007    7.355    0.007 layers.py:127(backpropagation)\n",
      "     1000    0.037    0.000    0.080    0.000 layers.py:154(forward)\n",
      "     1000    0.111    0.000    0.111    0.000 layers.py:160(backpropagation)\n",
      "      110    0.012    0.000    0.012    0.000 layers.py:170(update_gradients)\n",
      "     1000    0.003    0.000    0.009    0.000 layers.py:186(forward)\n",
      "     1000    0.003    0.000    0.005    0.000 layers.py:189(backpropagation)\n",
      "  1570000    2.163    0.000    2.163    0.000 layers.py:32(gen_local_region)\n",
      "     1000    6.810    0.007   19.469    0.019 layers.py:39(filter)\n",
      "     1000    0.002    0.000   19.472    0.019 layers.py:53(forward)\n",
      "     1000    6.495    0.006    7.525    0.008 layers.py:56(backpropagation)\n",
      "      110    0.001    0.000    0.001    0.000 layers.py:65(update_gradients)\n",
      "   197000   12.024    0.000   56.756    0.000 layers.py:88(gen_local_region)\n",
      "     1000    0.003    0.000    0.003    0.000 loss.py:10(dvalue)\n",
      "     1000    0.016    0.000    0.042    0.000 loss.py:7(value)\n",
      "     1000    0.002    0.000    0.045    0.000 models.py:33(get_loss)\n",
      "     1000    0.015    0.000   81.688    0.082 models.py:37(feedforward)\n",
      "     1000    0.018    0.000   15.017    0.015 models.py:44(backpropagation)\n",
      "      110    0.001    0.000    0.013    0.000 models.py:51(update_gradients)\n",
      "        1    0.021    0.021   96.815   96.815 models.py:55(fit)\n",
      "   784000    3.207    0.000    4.788    0.000 numeric.py:1308(normalize_axis_tuple)\n",
      "   784000    0.609    0.000    0.991    0.000 numeric.py:1358(<listcomp>)\n",
      "   392000    0.116    0.000    0.116    0.000 numeric.py:1367(_moveaxis_dispatcher)\n",
      "   392000    3.120    0.000    9.291    0.000 numeric.py:1371(moveaxis)\n",
      "   392000    0.192    0.000    0.192    0.000 numeric.py:1434(<listcomp>)\n",
      "   196000    0.060    0.000    0.060    0.000 numeric.py:533(_argwhere_dispatcher)\n",
      "   196000    0.809    0.000    7.594    0.000 numeric.py:537(argwhere)\n",
      "       95    0.006    0.000    0.006    0.000 socket.py:357(send)\n",
      "       95    0.000    0.000    0.000    0.000 threading.py:1017(_wait_for_tstate_lock)\n",
      "       95    0.000    0.000    0.000    0.000 threading.py:1071(is_alive)\n",
      "       95    0.000    0.000    0.000    0.000 threading.py:513(is_set)\n",
      "     1000    0.072    0.000    0.154    0.000 utils.py:18(norm)\n",
      "   784000    0.235    0.000    0.235    0.000 {built-in method _operator.index}\n",
      "        1    0.000    0.000   96.816   96.816 {built-in method builtins.exec}\n",
      "   786000    0.518    0.000    0.518    0.000 {built-in method builtins.getattr}\n",
      "   785084    0.229    0.000    0.229    0.000 {built-in method builtins.isinstance}\n",
      "  2940000    0.652    0.000    0.652    0.000 {built-in method builtins.len}\n",
      "       21    0.000    0.000    0.008    0.000 {built-in method builtins.print}\n",
      "   392000    0.499    0.000    0.499    0.000 {built-in method builtins.sorted}\n",
      "     1000    0.027    0.000    0.027    0.000 {built-in method builtins.sum}\n",
      "       84    0.000    0.000    0.000    0.000 {built-in method nt.getpid}\n",
      "   784000    2.621    0.000    2.621    0.000 {built-in method numpy.array}\n",
      "2747000/1571000    3.595    0.000   56.922    0.000 {built-in method numpy.core._multiarray_umath.implement_array_function}\n",
      "   784000    0.382    0.000    0.382    0.000 {built-in method numpy.core._multiarray_umath.normalize_axis_index}\n",
      "   196000    0.348    0.000    0.348    0.000 {built-in method numpy.empty}\n",
      "     3000    0.019    0.000    0.019    0.000 {built-in method numpy.zeros}\n",
      "       95    0.000    0.000    0.000    0.000 {method 'acquire' of '_thread.lock' objects}\n",
      "       95    0.000    0.000    0.000    0.000 {method 'append' of 'collections.deque' objects}\n",
      "     2000    0.008    0.000    0.008    0.000 {method 'argmax' of 'numpy.ndarray' objects}\n",
      "   392000    2.074    0.000    2.074    0.000 {method 'argsort' of 'numpy.ndarray' objects}\n",
      "     1000    0.013    0.000    0.013    0.000 {method 'astype' of 'numpy.ndarray' objects}\n",
      "        1    0.000    0.000    0.000    0.000 {method 'disable' of '_lsprof.Profiler' objects}\n",
      "     2000    0.010    0.000    0.010    0.000 {method 'fill' of 'numpy.ndarray' objects}\n",
      "   199000    0.692    0.000    0.692    0.000 {method 'flatten' of 'numpy.ndarray' objects}\n",
      "   196000    0.375    0.000    0.375    0.000 {method 'format' of 'str' objects}\n",
      "   392000    0.157    0.000    0.157    0.000 {method 'insert' of 'list' objects}\n",
      "  1373000    0.392    0.000    0.392    0.000 {method 'items' of 'dict' objects}\n",
      "     2000    0.004    0.000    0.040    0.000 {method 'max' of 'numpy.ndarray' objects}\n",
      "     5000    0.009    0.000    0.100    0.000 {method 'min' of 'numpy.ndarray' objects}\n",
      "   196000    0.721    0.000    0.721    0.000 {method 'nonzero' of 'numpy.ndarray' objects}\n",
      "  1380000   10.811    0.000   10.811    0.000 {method 'reduce' of 'numpy.ufunc' objects}\n",
      "   393000    0.872    0.000    0.872    0.000 {method 'reshape' of 'numpy.ndarray' objects}\n",
      "   588000    0.527    0.000    0.527    0.000 {method 'transpose' of 'numpy.ndarray' objects}\n",
      "   392000    1.191    0.000    1.528    0.000 {method 'view' of 'numpy.ndarray' objects}\n",
      "\n",
      "\n"
     ]
    }
   ],
   "source": [
    "p.cprofiler('self.model.fit(X_train[:100], y_train[:100], None, 10, 10)')"
   ]
  },
  {
   "cell_type": "code",
   "execution_count": null,
   "metadata": {},
   "outputs": [],
   "source": [
    "p.cprofiler('self.model.fit(X_train[:100], y_train[:100], None, 10, 10)')"
   ]
  },
  {
   "cell_type": "code",
   "execution_count": null,
   "metadata": {},
   "outputs": [],
   "source": []
  }
 ]
}